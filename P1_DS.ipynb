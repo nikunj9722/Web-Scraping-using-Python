{
 "cells": [
  {
   "cell_type": "code",
   "execution_count": 1,
   "metadata": {},
   "outputs": [
    {
     "name": "stdout",
     "output_type": "stream",
     "text": [
      "Requirement already satisfied: pandas in c:\\programdata\\anaconda3\\lib\\site-packages (1.0.5)\n",
      "Requirement already satisfied: pytz>=2017.2 in c:\\programdata\\anaconda3\\lib\\site-packages (from pandas) (2020.1)\n",
      "Requirement already satisfied: numpy>=1.13.3 in c:\\programdata\\anaconda3\\lib\\site-packages (from pandas) (1.18.5)\n",
      "Requirement already satisfied: python-dateutil>=2.6.1 in c:\\programdata\\anaconda3\\lib\\site-packages (from pandas) (2.8.1)\n",
      "Requirement already satisfied: six>=1.5 in c:\\programdata\\anaconda3\\lib\\site-packages (from python-dateutil>=2.6.1->pandas) (1.15.0)\n",
      "Note: you may need to restart the kernel to use updated packages.\n"
     ]
    }
   ],
   "source": [
    "pip install pandas"
   ]
  },
  {
   "cell_type": "code",
   "execution_count": 2,
   "metadata": {},
   "outputs": [
    {
     "name": "stdout",
     "output_type": "stream",
     "text": [
      "Requirement already satisfied: requests in c:\\programdata\\anaconda3\\lib\\site-packages (2.24.0)\n",
      "Requirement already satisfied: idna<3,>=2.5 in c:\\programdata\\anaconda3\\lib\\site-packages (from requests) (2.10)\n",
      "Requirement already satisfied: certifi>=2017.4.17 in c:\\programdata\\anaconda3\\lib\\site-packages (from requests) (2020.6.20)\n",
      "Requirement already satisfied: chardet<4,>=3.0.2 in c:\\programdata\\anaconda3\\lib\\site-packages (from requests) (3.0.4)\n",
      "Requirement already satisfied: urllib3!=1.25.0,!=1.25.1,<1.26,>=1.21.1 in c:\\programdata\\anaconda3\\lib\\site-packages (from requests) (1.25.9)\n",
      "Note: you may need to restart the kernel to use updated packages.\n"
     ]
    }
   ],
   "source": [
    "pip install requests"
   ]
  },
  {
   "cell_type": "code",
   "execution_count": 3,
   "metadata": {},
   "outputs": [
    {
     "name": "stdout",
     "output_type": "stream",
     "text": [
      "Requirement already satisfied: bs4 in c:\\programdata\\anaconda3\\lib\\site-packages (0.0.1)\n",
      "Requirement already satisfied: beautifulsoup4 in c:\\programdata\\anaconda3\\lib\\site-packages (from bs4) (4.9.1)\n",
      "Requirement already satisfied: soupsieve>1.2 in c:\\programdata\\anaconda3\\lib\\site-packages (from beautifulsoup4->bs4) (2.0.1)\n",
      "Note: you may need to restart the kernel to use updated packages.\n"
     ]
    }
   ],
   "source": [
    "pip install bs4"
   ]
  },
  {
   "cell_type": "code",
   "execution_count": 4,
   "metadata": {},
   "outputs": [],
   "source": [
    "from bs4 import BeautifulSoup \n",
    "\n",
    "import requests \n",
    "\n",
    "import csv\n",
    "\n",
    "import pandas as pd"
   ]
  },
  {
   "cell_type": "code",
   "execution_count": 5,
   "metadata": {},
   "outputs": [],
   "source": [
    "url='https://www.flipkart.com/mobiles/~cs-fdeu9sdw9c/pr?sid=tyy%2C4io&collection-tab-name=Iphone%20SE%202020&otracker=nmenu_sub_Electronics_0_iPhone%20SE'"
   ]
  },
  {
   "cell_type": "code",
   "execution_count": 6,
   "metadata": {},
   "outputs": [],
   "source": [
    "req=requests.get(url)"
   ]
  },
  {
   "cell_type": "code",
   "execution_count": 7,
   "metadata": {},
   "outputs": [],
   "source": [
    "content=BeautifulSoup(req.content,'html.parser')"
   ]
  },
  {
   "cell_type": "code",
   "execution_count": 8,
   "metadata": {},
   "outputs": [],
   "source": [
    "name=content.find_all('div',{\"class\":\"_4rR01T\"})\n",
    "price=content.find_all('div',{\"class\":\"_30jeq3 _1_WHN1\"})\n",
    "rating=content.find_all('div',{\"class\":\"_3LWZlK\"})"
   ]
  },
  {
   "cell_type": "code",
   "execution_count": 9,
   "metadata": {},
   "outputs": [],
   "source": [
    "nm=[]\n",
    "pr=[]\n",
    "rt=[]"
   ]
  },
  {
   "cell_type": "code",
   "execution_count": 10,
   "metadata": {},
   "outputs": [],
   "source": [
    "for i in name:\n",
    "    nm.append(i.text)\n",
    "for i in price:\n",
    "    pr.append(i.text)\n",
    "for i in rating:\n",
    "    rt.append(i.text)"
   ]
  },
  {
   "cell_type": "code",
   "execution_count": 11,
   "metadata": {},
   "outputs": [],
   "source": [
    "data={'NAME':nm,'PRICE':pr,'RATING':rt}\n",
    "df=pd.DataFrame(data)"
   ]
  },
  {
   "cell_type": "code",
   "execution_count": 12,
   "metadata": {},
   "outputs": [
    {
     "name": "stdout",
     "output_type": "stream",
     "text": [
      "                                                 NAME    PRICE RATING\n",
      "0                      APPLE iPhone SE (White, 64 GB)  ₹28,999    4.5\n",
      "1                     APPLE iPhone SE (Black, 128 GB)  ₹33,999    4.5\n",
      "2                        APPLE iPhone SE (Red, 64 GB)  ₹28,999    4.5\n",
      "3                     APPLE iPhone SE (White, 128 GB)  ₹33,999    4.5\n",
      "4                      APPLE iPhone SE (Black, 64 GB)  ₹28,999    4.5\n",
      "5                       APPLE iPhone SE (Red, 128 GB)  ₹33,999    4.5\n",
      "6   Apple iPhone SE (White, 64 GB) (Includes EarPo...  ₹28,999    4.5\n",
      "7   Apple iPhone SE (White, 256 GB) (Includes EarP...  ₹43,999    4.5\n",
      "8   Apple iPhone SE (Black, 256 GB) (Includes EarP...  ₹43,999    4.5\n",
      "9   Apple iPhone SE (Black, 64 GB) (Includes EarPo...  ₹28,999    4.5\n",
      "10  Apple iPhone SE (White, 128 GB) (Includes EarP...  ₹33,999    4.5\n",
      "11  Apple iPhone SE (Red, 256 GB) (Includes EarPod...  ₹43,999    4.5\n",
      "12  Apple iPhone SE (Red, 128 GB) (Includes EarPod...  ₹33,999    4.5\n",
      "13  Apple iPhone SE (Black, 128 GB) (Includes EarP...  ₹33,999    4.5\n",
      "14  Apple iPhone SE (Red, 64 GB) (Includes EarPods...  ₹28,999    4.5\n",
      "15                    APPLE iPhone SE (White, 256 GB)  ₹43,999    4.5\n",
      "16                    APPLE iPhone SE (Black, 256 GB)  ₹43,999    4.5\n",
      "17                      APPLE iPhone SE (Red, 256 GB)  ₹43,999    4.5\n"
     ]
    }
   ],
   "source": [
    "print(df)"
   ]
  },
  {
   "cell_type": "code",
   "execution_count": 13,
   "metadata": {},
   "outputs": [],
   "source": [
    "df.to_csv('18it093_Nikunj Patel.csv')"
   ]
  },
  {
   "cell_type": "code",
   "execution_count": null,
   "metadata": {},
   "outputs": [],
   "source": []
  }
 ],
 "metadata": {
  "kernelspec": {
   "display_name": "Python 3",
   "language": "python",
   "name": "python3"
  },
  "language_info": {
   "codemirror_mode": {
    "name": "ipython",
    "version": 3
   },
   "file_extension": ".py",
   "mimetype": "text/x-python",
   "name": "python",
   "nbconvert_exporter": "python",
   "pygments_lexer": "ipython3",
   "version": "3.8.3"
  }
 },
 "nbformat": 4,
 "nbformat_minor": 4
}
